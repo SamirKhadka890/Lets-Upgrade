{
  "nbformat": 4,
  "nbformat_minor": 0,
  "metadata": {
    "colab": {
      "name": "Day 3 Assignment.ipynb",
      "provenance": [],
      "authorship_tag": "ABX9TyM3XrrsUpqKXFKb87xEiehg",
      "include_colab_link": true
    },
    "kernelspec": {
      "name": "python3",
      "display_name": "Python 3"
    }
  },
  "cells": [
    {
      "cell_type": "markdown",
      "metadata": {
        "id": "view-in-github",
        "colab_type": "text"
      },
      "source": [
        "<a href=\"https://colab.research.google.com/github/SamirKhadka890/Lets-Upgrade/blob/master/Day_3_Assignment.ipynb\" target=\"_parent\"><img src=\"https://colab.research.google.com/assets/colab-badge.svg\" alt=\"Open In Colab\"/></a>"
      ]
    },
    {
      "cell_type": "code",
      "metadata": {
        "id": "fausRbvDxmxK",
        "colab_type": "code",
        "colab": {
          "base_uri": "https://localhost:8080/",
          "height": 51
        },
        "outputId": "e4de4e7b-9a24-4b7d-be19-531c541bd721"
      },
      "source": [
        "height = input(\"Enter a height in ft\")\n",
        "height = int(height)\n",
        "if height<1000 :\n",
        "    print(\"Safe to land\")\n",
        "elif height<5000  and height> 1000:\n",
        "    print(\"Bring down to 1000 ft\")\n",
        "else  :\n",
        "    print(\"Turn around\")"
      ],
      "execution_count": null,
      "outputs": [
        {
          "output_type": "stream",
          "text": [
            "Enter a height in ft400\n",
            "Safe to land\n"
          ],
          "name": "stdout"
        }
      ]
    },
    {
      "cell_type": "code",
      "metadata": {
        "id": "Y-yS_MT71R1i",
        "colab_type": "code",
        "colab": {
          "base_uri": "https://localhost:8080/",
          "height": 51
        },
        "outputId": "5fbcb3c0-4bdf-4ef7-9b80-14ec079094f8"
      },
      "source": [
        "lower = 1042000\n",
        "upper = 702648265\n",
        "\n",
        "for num in range(lower, upper + 1):\n",
        "\n",
        "   # order of number\n",
        "   order = len(str(num))\n",
        "    \n",
        "   # initialize sum\n",
        "   sum = 0\n",
        "\n",
        "   temp = num\n",
        "   while temp > 0:\n",
        "       digit = temp % 10\n",
        "       sum += digit ** order\n",
        "       temp //= 10\n",
        "\n",
        "   if num == sum:\n",
        "       print(\"The first ArmStrong number is\")\n",
        "       print(num)\n",
        "       \n",
        "       break\n",
        "      \n"
      ],
      "execution_count": 3,
      "outputs": [
        {
          "output_type": "stream",
          "text": [
            "The first ArmStrong number is\n",
            "1741725\n"
          ],
          "name": "stdout"
        }
      ]
    },
    {
      "cell_type": "code",
      "metadata": {
        "id": "-c8mJFzG7cMC",
        "colab_type": "code",
        "colab": {
          "base_uri": "https://localhost:8080/",
          "height": 816
        },
        "outputId": "8498a14b-bd06-436d-e303-a2693730a439"
      },
      "source": [
        "lower = 1\n",
        "upper = 200\n",
        "\n",
        "print(\"Prime numbers between\", lower, \"and\", upper, \"are:\")\n",
        "\n",
        "for num in range(lower, upper + 1):\n",
        "   # all prime numbers are greater than 1\n",
        "   if num > 1:\n",
        "       for i in range(2, num):\n",
        "           if (num % i) == 0:\n",
        "               break\n",
        "       else:\n",
        "           print(num)"
      ],
      "execution_count": 1,
      "outputs": [
        {
          "output_type": "stream",
          "text": [
            "Prime numbers between 1 and 200 are:\n",
            "2\n",
            "3\n",
            "5\n",
            "7\n",
            "11\n",
            "13\n",
            "17\n",
            "19\n",
            "23\n",
            "29\n",
            "31\n",
            "37\n",
            "41\n",
            "43\n",
            "47\n",
            "53\n",
            "59\n",
            "61\n",
            "67\n",
            "71\n",
            "73\n",
            "79\n",
            "83\n",
            "89\n",
            "97\n",
            "101\n",
            "103\n",
            "107\n",
            "109\n",
            "113\n",
            "127\n",
            "131\n",
            "137\n",
            "139\n",
            "149\n",
            "151\n",
            "157\n",
            "163\n",
            "167\n",
            "173\n",
            "179\n",
            "181\n",
            "191\n",
            "193\n",
            "197\n",
            "199\n"
          ],
          "name": "stdout"
        }
      ]
    },
    {
      "cell_type": "code",
      "metadata": {
        "id": "V24U7WOZTArO",
        "colab_type": "code",
        "colab": {}
      },
      "source": [
        ""
      ],
      "execution_count": null,
      "outputs": []
    }
  ]
}